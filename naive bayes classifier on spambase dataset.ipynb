

import pandas as pd
from sklearn.model_selection import train_test_split
from sklearn.naive_bayes import GaussianNB
from sklearn import metrics



spam_data = pd.read_csv("Spam/spambase.data")



x = spam_data.iloc[:,:57]



y = spam_data.iloc[:,-1]


x_train,x_test,y_train,y_test = train_test_split(x,y,test_size=0.2, random_state=42,shuffle = True)


classifier = GaussianNB()


classifier.fit(x_train,y_train)


predicted = classifier.predict(x_test)


print("Accuracy:",metrics.accuracy_score(y_test, predicted))




